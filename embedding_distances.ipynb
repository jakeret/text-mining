{
 "cells": [
  {
   "cell_type": "code",
   "execution_count": 1,
   "metadata": {},
   "outputs": [],
   "source": [
    "import matplotlib.pyplot as plt\n",
    "%matplotlib inline\n",
    "import seaborn as sns"
   ]
  },
  {
   "cell_type": "code",
   "execution_count": 2,
   "metadata": {},
   "outputs": [],
   "source": [
    "import pandas as pd"
   ]
  },
  {
   "cell_type": "code",
   "execution_count": 3,
   "metadata": {},
   "outputs": [
    {
     "name": "stderr",
     "output_type": "stream",
     "text": [
      "c:\\users\\e516977\\.virtualenvs\\teampcamp2019-vtq4pcez\\lib\\site-packages\\tensorboard\\compat\\tensorflow_stub\\dtypes.py:541: FutureWarning: Passing (type, 1) or '1type' as a synonym of type is deprecated; in a future version of numpy, it will be understood as (type, (1,)) / '(1,)type'.\n",
      "  _np_qint8 = np.dtype([(\"qint8\", np.int8, 1)])\n",
      "c:\\users\\e516977\\.virtualenvs\\teampcamp2019-vtq4pcez\\lib\\site-packages\\tensorboard\\compat\\tensorflow_stub\\dtypes.py:542: FutureWarning: Passing (type, 1) or '1type' as a synonym of type is deprecated; in a future version of numpy, it will be understood as (type, (1,)) / '(1,)type'.\n",
      "  _np_quint8 = np.dtype([(\"quint8\", np.uint8, 1)])\n",
      "c:\\users\\e516977\\.virtualenvs\\teampcamp2019-vtq4pcez\\lib\\site-packages\\tensorboard\\compat\\tensorflow_stub\\dtypes.py:543: FutureWarning: Passing (type, 1) or '1type' as a synonym of type is deprecated; in a future version of numpy, it will be understood as (type, (1,)) / '(1,)type'.\n",
      "  _np_qint16 = np.dtype([(\"qint16\", np.int16, 1)])\n",
      "c:\\users\\e516977\\.virtualenvs\\teampcamp2019-vtq4pcez\\lib\\site-packages\\tensorboard\\compat\\tensorflow_stub\\dtypes.py:544: FutureWarning: Passing (type, 1) or '1type' as a synonym of type is deprecated; in a future version of numpy, it will be understood as (type, (1,)) / '(1,)type'.\n",
      "  _np_quint16 = np.dtype([(\"quint16\", np.uint16, 1)])\n",
      "c:\\users\\e516977\\.virtualenvs\\teampcamp2019-vtq4pcez\\lib\\site-packages\\tensorboard\\compat\\tensorflow_stub\\dtypes.py:545: FutureWarning: Passing (type, 1) or '1type' as a synonym of type is deprecated; in a future version of numpy, it will be understood as (type, (1,)) / '(1,)type'.\n",
      "  _np_qint32 = np.dtype([(\"qint32\", np.int32, 1)])\n",
      "c:\\users\\e516977\\.virtualenvs\\teampcamp2019-vtq4pcez\\lib\\site-packages\\tensorboard\\compat\\tensorflow_stub\\dtypes.py:550: FutureWarning: Passing (type, 1) or '1type' as a synonym of type is deprecated; in a future version of numpy, it will be understood as (type, (1,)) / '(1,)type'.\n",
      "  np_resource = np.dtype([(\"resource\", np.ubyte, 1)])\n"
     ]
    }
   ],
   "source": [
    "from transformer_utils import DataProcessor\n",
    "import model\n",
    "import utils\n",
    "import pipeline"
   ]
  },
  {
   "cell_type": "code",
   "execution_count": 4,
   "metadata": {},
   "outputs": [],
   "source": [
    "data_path = \"data\""
   ]
  },
  {
   "cell_type": "code",
   "execution_count": 5,
   "metadata": {},
   "outputs": [],
   "source": [
    "do_lower_case=False,\n",
    "max_seq_length = 128"
   ]
  },
  {
   "cell_type": "code",
   "execution_count": 6,
   "metadata": {},
   "outputs": [],
   "source": [
    "processor = DataProcessor()\n",
    "train_examples = processor.get_train_examples(data_path)"
   ]
  },
  {
   "cell_type": "code",
   "execution_count": 7,
   "metadata": {},
   "outputs": [],
   "source": [
    "txt_dataset = pd.DataFrame([(e.label, e.text_a) for e in train_examples], columns=(\"label\", \"text\"))"
   ]
  },
  {
   "cell_type": "markdown",
   "metadata": {},
   "source": [
    "txt_dataset.label.value_counts().plot(kind=\"bar\")"
   ]
  },
  {
   "cell_type": "code",
   "execution_count": null,
   "metadata": {},
   "outputs": [],
   "source": []
  },
  {
   "cell_type": "code",
   "execution_count": 8,
   "metadata": {},
   "outputs": [],
   "source": [
    "model_path = \"./trained/\""
   ]
  },
  {
   "cell_type": "code",
   "execution_count": null,
   "metadata": {},
   "outputs": [],
   "source": []
  },
  {
   "cell_type": "code",
   "execution_count": 9,
   "metadata": {},
   "outputs": [
    {
     "name": "stderr",
     "output_type": "stream",
     "text": [
      "2019-09-06 11:43:15,075 : INFO : Loading model from ./trained/\n",
      "2019-09-06 11:43:15,077 : INFO : loading configuration file ./trained/config.json\n",
      "2019-09-06 11:43:15,078 : INFO : Model config {\n",
      "  \"attention_probs_dropout_prob\": 0.1,\n",
      "  \"finetuning_task\": null,\n",
      "  \"hidden_act\": \"gelu\",\n",
      "  \"hidden_dropout_prob\": 0.1,\n",
      "  \"hidden_size\": 768,\n",
      "  \"initializer_range\": 0.02,\n",
      "  \"intermediate_size\": 3072,\n",
      "  \"layer_norm_eps\": 1e-12,\n",
      "  \"max_position_embeddings\": 512,\n",
      "  \"num_attention_heads\": 12,\n",
      "  \"num_hidden_layers\": 12,\n",
      "  \"num_labels\": 9,\n",
      "  \"output_attentions\": false,\n",
      "  \"output_hidden_states\": true,\n",
      "  \"torchscript\": false,\n",
      "  \"type_vocab_size\": 2,\n",
      "  \"vocab_size\": 30000\n",
      "}\n",
      "\n",
      "2019-09-06 11:43:15,079 : INFO : loading weights file ./trained/pytorch_model.bin\n",
      "2019-09-06 11:43:17,402 : INFO : Model name './trained/' not found in model shortcut name list (bert-base-uncased, bert-large-uncased, bert-base-cased, bert-large-cased, bert-base-multilingual-uncased, bert-base-multilingual-cased, bert-base-chinese, bert-base-german-cased, bert-large-uncased-whole-word-masking, bert-large-cased-whole-word-masking, bert-large-uncased-whole-word-masking-finetuned-squad, bert-large-cased-whole-word-masking-finetuned-squad, bert-base-cased-finetuned-mrpc). Assuming './trained/' is a path or url to a directory containing tokenizer files.\n",
      "2019-09-06 11:43:17,405 : INFO : loading file ./trained/vocab.txt\n",
      "2019-09-06 11:43:17,407 : INFO : loading file ./trained/added_tokens.json\n",
      "2019-09-06 11:43:17,408 : INFO : loading file ./trained/special_tokens_map.json\n"
     ]
    }
   ],
   "source": [
    "bert_model, tokenizer = utils.load_model(model_path, do_lower_case=True)"
   ]
  },
  {
   "cell_type": "code",
   "execution_count": 10,
   "metadata": {},
   "outputs": [],
   "source": [
    "import numpy as np\n",
    "import torch"
   ]
  },
  {
   "cell_type": "code",
   "execution_count": 11,
   "metadata": {},
   "outputs": [],
   "source": [
    "def predict(feature_tensors, bert_model, batch_size):\n",
    "    device = model.get_device()\n",
    "    \n",
    "    all_input_ids, all_input_mask, all_segment_ids, all_label_ids = feature_tensors\n",
    "    \n",
    "    preds = None\n",
    "    for i in range(0, len(feature_tensors[0]), batch_size):\n",
    "        bert_model.eval()\n",
    "        with torch.no_grad():\n",
    "            _, logits, _ = bert_model(input_ids=all_input_ids[i:(i+batch_size)].to(device), \n",
    "                                   attention_mask=all_input_mask[i:(i+batch_size)].to(device), \n",
    "                                   token_type_ids=all_segment_ids[i:(i+batch_size)].to(device), \n",
    "                                   labels=all_label_ids[i:(i+batch_size)].to(device)\n",
    "                                  )\n",
    "            if preds is None:\n",
    "                preds = logits.detach().cpu().numpy()\n",
    "            else:\n",
    "                preds = np.append(preds, logits.detach().cpu().numpy(), axis=0)\n",
    "\n",
    "    return np.argmax(preds, axis=1)"
   ]
  },
  {
   "cell_type": "code",
   "execution_count": 12,
   "metadata": {},
   "outputs": [],
   "source": [
    "features = pipeline.build_features(train_examples[:800], processor.get_labels(), max_seq_length, tokenizer)\n",
    "feature_tensors = pipeline.convert_to_tensors(features)"
   ]
  },
  {
   "cell_type": "code",
   "execution_count": 13,
   "metadata": {},
   "outputs": [],
   "source": [
    "preds = predict(feature_tensors, bert_model, 8)"
   ]
  },
  {
   "cell_type": "code",
   "execution_count": 14,
   "metadata": {},
   "outputs": [],
   "source": [
    "labels = feature_tensors[3].detach().cpu().numpy()"
   ]
  },
  {
   "cell_type": "code",
   "execution_count": 15,
   "metadata": {},
   "outputs": [
    {
     "data": {
      "text/plain": [
       "{'acc': 0.7575,\n",
       " 'f1_micro': 0.7575,\n",
       " 'f1_macro': 0.7450324114693911,\n",
       " 'acc_and_f1': 0.7575}"
      ]
     },
     "execution_count": 15,
     "metadata": {},
     "output_type": "execute_result"
    }
   ],
   "source": [
    "model.compute_metrics(preds, labels)"
   ]
  },
  {
   "cell_type": "code",
   "execution_count": 16,
   "metadata": {},
   "outputs": [],
   "source": [
    "from transformer_utils import InputExample"
   ]
  },
  {
   "cell_type": "code",
   "execution_count": 17,
   "metadata": {},
   "outputs": [],
   "source": [
    "def create_tensors_from_text(texts):\n",
    "    examples = [InputExample(guid=str(i), text_a=text, text_b=None, label=processor.get_labels()[0]) for i, text in enumerate(texts)]\n",
    "    features = pipeline.build_features(examples, processor.get_labels(), max_seq_length, tokenizer)\n",
    "    feature_tensors = pipeline.convert_to_tensors(features)\n",
    "    \n",
    "    return feature_tensors"
   ]
  },
  {
   "cell_type": "code",
   "execution_count": 18,
   "metadata": {},
   "outputs": [],
   "source": [
    "def compute_embeddings(texts, bert_model, batch_size):\n",
    "    feature_tensors = create_tensors_from_text(texts)\n",
    "    \n",
    "    \n",
    "    device = model.get_device()\n",
    "    \n",
    "    all_input_ids, all_input_mask, all_segment_ids, all_label_ids = feature_tensors\n",
    "    \n",
    "    hidden_state_list = None\n",
    "    \n",
    "    bert_model.eval()\n",
    "    for i in range(0, len(feature_tensors[0]), batch_size):\n",
    "        with torch.no_grad():\n",
    "            _, _, hidden_states = bert_model(input_ids=all_input_ids[i:(i+batch_size)].to(device), \n",
    "                                   attention_mask=all_input_mask[i:(i+batch_size)].to(device), \n",
    "                                   token_type_ids=all_segment_ids[i:(i+batch_size)].to(device), \n",
    "                                   labels=all_label_ids[i:(i+batch_size)].to(device)\n",
    "                                  )\n",
    "            if hidden_state_list is None:\n",
    "                hidden_state_list = np.array([hs.detach().cpu().numpy() for hs in hidden_states])\n",
    "            else:\n",
    "                hidden_state_list = np.append(hidden_state_list, [hs.detach().cpu().numpy() for hs in hidden_states], axis=1)\n",
    "            \n",
    "\n",
    "    return hidden_state_list"
   ]
  },
  {
   "cell_type": "code",
   "execution_count": 19,
   "metadata": {},
   "outputs": [],
   "source": [
    "texts = [\"Die Prinzessin wohnt im prunkvollen Schloss\", \n",
    "         \"Das Schloss wurde im Mittelalter erbaut\",\n",
    "         \"Die Türe benötigt dringend ein neue Schloss\",\n",
    "         \"Das Schloss der Kiste ist schon lange defekt\"]\n",
    "\n",
    "keyword = \"Schloss\""
   ]
  },
  {
   "cell_type": "code",
   "execution_count": 20,
   "metadata": {},
   "outputs": [],
   "source": [
    "hidden_states = compute_embeddings(texts, bert_model, 8)"
   ]
  },
  {
   "cell_type": "code",
   "execution_count": 21,
   "metadata": {},
   "outputs": [],
   "source": [
    "last_layer = hidden_states[-1]\n"
   ]
  },
  {
   "cell_type": "code",
   "execution_count": 22,
   "metadata": {},
   "outputs": [
    {
     "name": "stdout",
     "output_type": "stream",
     "text": [
      "Die Prinzessin wohnt im prunkvollen Schloss\n",
      "die [ 0.19949171  0.6674701  -0.4995471   0.22821465  0.57511127  0.12204019\n",
      " -0.7050208   0.3042269   0.04609396 -0.0800918 ] ...\n",
      "pri [-0.932495    0.21440175 -0.47336107 -0.31614128 -0.30238453 -0.77146244\n",
      " -0.78952646  0.5519063  -0.3136775   0.73738176] ...\n",
      "##n [ 1.1446395   0.48982182 -0.12486835  0.78828937 -0.6064     -0.03958548\n",
      "  0.75160134  0.48527676  0.29800606  1.5452099 ] ...\n",
      "##zessin [-0.31543308 -0.24068704 -0.7447281  -0.07043762  0.03576417 -0.7025688\n",
      "  0.14945623  0.92424476 -1.6836517   0.5431963 ] ...\n",
      "wohnt [ 0.35671628 -0.05010961  0.26379323 -0.3007524   0.36181685  0.45295185\n",
      "  0.28822708  0.172923   -0.5302089   0.48997465] ...\n",
      "im [-0.14864717 -0.2152715  -0.45718277 -0.4548815   0.01706519 -0.157309\n",
      " -0.55180657  0.20091227 -0.02222855  0.3747477 ] ...\n",
      "p [-0.09267059  0.43038243 -0.36094072  0.33853942  0.4785929  -0.40772754\n",
      " -0.67258644  0.7538942   0.3010658   0.29157805] ...\n",
      "##run [ 0.20806953  0.10386507 -0.97073793 -0.4626533   0.1720837  -0.58132493\n",
      "  0.08225697  0.5152388  -0.24252932  0.892886  ] ...\n",
      "##k [ 0.6537479   0.0229506  -0.7000113  -0.4678746   0.4259626  -0.51063156\n",
      "  0.13591233  0.5952875  -0.2458808   0.36447272] ...\n",
      "##vollen [-0.2532543  -1.4354655  -0.40423113 -1.2219425   0.427495   -1.0175792\n",
      " -0.57828414  0.677361   -0.8180899  -0.11474992] ...\n",
      "schloss [ 0.32933056  0.07343072 -0.7153806  -0.64258206  0.14474592 -0.64841604\n",
      " -0.06003296  0.3278109  -0.10944161 -0.2664488 ] ...\n",
      "\n",
      "Das Schloss wurde im Mittelalter erbaut\n",
      "das [ 0.26526207  1.4183652  -0.7026168  -1.8020808  -0.8016281  -1.3945519\n",
      " -0.98776805  0.2637779   1.1023557   0.31941816] ...\n",
      "schloss [-0.43538064  0.4106901  -0.7192202  -1.7055681  -0.56321216 -1.2186962\n",
      " -1.1647613  -0.00300417  1.223079   -0.03968947] ...\n",
      "wurde [ 1.0253799   0.67645377  0.00478127 -0.37987867  0.3203685  -0.84896713\n",
      " -0.7348952   0.26788145  1.3797643  -0.07929576] ...\n",
      "im [ 0.4950878   0.10569648 -0.3049557  -1.4763391  -0.9883653  -1.4976624\n",
      " -0.5993738   0.43975994  0.7989217   0.60026103] ...\n",
      "mittelalter [-0.04121908  0.45149854 -0.9382407  -1.2327876  -0.59093434 -1.939347\n",
      " -0.7920445  -0.05964819  0.968689   -0.04503086] ...\n",
      "erbaut [ 0.42359596  1.4855968  -0.53394634 -0.6360635  -0.7733104  -1.006723\n",
      "  0.35739106  0.24672467  0.44535887 -0.2615402 ] ...\n",
      "\n",
      "Die Türe benötigt dringend ein neue Schloss\n",
      "die [ 0.22049184  0.7598555  -0.06695473  0.506004    0.39029557  0.7875337\n",
      " -0.62268424  0.09752838  0.11529462  0.1814872 ] ...\n",
      "t [-0.9037474  -0.29216632 -1.5915836  -0.382908    0.0628382  -0.5610191\n",
      " -1.2073253   0.25164798 -0.34679958  0.21522486] ...\n",
      "##ure [ 0.00222654 -0.9022672  -0.95535564 -0.95966053 -0.3609639   0.02288095\n",
      " -1.3515965   0.7445101   0.5900589  -0.5284367 ] ...\n",
      "ben [-0.4543116  -0.08207481 -0.48045626 -0.04899124 -0.25944299  0.6826176\n",
      " -0.6380613   0.32454196 -0.09413308 -0.49351725] ...\n",
      "##ot [-0.21507901  0.513146   -0.7656527   0.32551214 -0.4346654  -0.18658945\n",
      " -0.5062803  -0.06539853  0.4581163   1.1172177 ] ...\n",
      "##igt [-0.42092764  0.09057844  0.3694723   0.35053506  0.28484648  0.21576421\n",
      " -0.70337    -0.46837395 -0.35206327 -0.13703641] ...\n",
      "dringend [-0.15697783  0.02158465 -0.7476931  -0.26213238 -0.3695797  -0.4535203\n",
      " -0.28419363 -0.56357676  0.36217022  0.53556913] ...\n",
      "ein [ 0.1672554   0.50558144  0.07523128 -0.29656395  0.08329059 -0.38697273\n",
      " -0.60011935 -1.0604136   0.34746325  1.0356386 ] ...\n",
      "neue [-1.2999586   0.13651483  0.8624297  -0.2208681   0.33690023 -1.2714199\n",
      "  0.85886955 -0.5604061  -0.13891287  0.3974903 ] ...\n",
      "schloss [-0.00853177  1.06301     0.8853625  -0.015862    0.29332733 -0.3831798\n",
      "  0.01997835  0.42190376 -0.17844231 -0.27031153] ...\n",
      "\n",
      "Das Schloss der Kiste ist schon lange defekt\n",
      "das [ 0.0576321   1.241811   -0.46477827 -0.0623609   0.93498534  0.06469081\n",
      " -0.67792034 -0.02264668 -0.8914906   0.4682664 ] ...\n",
      "schloss [-1.0822638   0.12716429  0.5554885  -0.7261202   0.9242746  -0.6113566\n",
      " -0.24321114 -0.40052217 -0.9878971  -0.02009272] ...\n",
      "der [ 0.13748616  1.1018857   0.6357332   0.04729263  1.3452146  -0.33936548\n",
      " -0.40831017  0.16275355 -0.737699    0.6706976 ] ...\n",
      "k [-0.6279665   0.10181057  0.15740071 -0.10257585  0.77051204 -0.15676787\n",
      " -1.39978     0.592597   -0.687446    0.53411436] ...\n",
      "##iste [-0.8446089   0.88731945  0.22815825 -0.22805019 -0.3582468  -0.2987416\n",
      " -1.100035   -0.05348714 -0.80884653  0.30599716] ...\n",
      "ist [ 0.30163366  1.4787568  -1.6677815   0.13509795 -0.21865308 -0.32175353\n",
      " -1.577428   -0.0359327  -0.8720005   0.46826154] ...\n",
      "schon [ 0.15550786 -0.13227193 -0.22178656 -0.44290134  0.4817639  -0.8717586\n",
      " -0.48930487  0.57324135 -0.81086034  1.494616  ] ...\n",
      "lange [ 0.2495007  -0.6505469  -0.9534422   0.06887872 -0.00550197 -0.46359438\n",
      " -0.778303   -0.84176373 -1.2185879   1.2295184 ] ...\n",
      "de [-0.19996813  0.3268354  -0.20905516 -0.18104918  0.5592347  -1.0979539\n",
      " -1.4831204  -0.5628211  -1.0562472   0.863314  ] ...\n",
      "##fekt [ 0.44980925 -0.54250634 -0.86359227  0.77927536  1.355202   -1.5490718\n",
      " -0.0542705   0.79295546 -0.1625306   1.0620126 ] ...\n",
      "\n"
     ]
    }
   ],
   "source": [
    "for idx, text in enumerate(texts):\n",
    "    print(text)\n",
    "    tokens_a = tokenizer.tokenize(text)\n",
    "    for (token, embeddings) in zip(tokens_a, last_layer[idx]):\n",
    "        print(token, embeddings[: 10], \"...\")\n",
    "    print()"
   ]
  },
  {
   "cell_type": "code",
   "execution_count": 23,
   "metadata": {},
   "outputs": [],
   "source": [
    "def embeddings_for_keyword(texts, keyword):\n",
    "    return np.vstack([last_layer[i, 1+tokenizer.tokenize(text).index(keyword.lower())] for i, text in enumerate(texts)])\n",
    "    #return sequene_embeddings[[tokenizer.tokenize(text).index(keyword.lower()) for text in texts]]"
   ]
  },
  {
   "cell_type": "code",
   "execution_count": 24,
   "metadata": {},
   "outputs": [],
   "source": [
    "def token_embeddings_for_sequence(texts):\n",
    "    return np.vstack([last_layer[i, 1:len(tokenizer.tokenize(text))+1] for i,text in enumerate(texts)])"
   ]
  },
  {
   "cell_type": "code",
   "execution_count": 25,
   "metadata": {},
   "outputs": [],
   "source": [
    "def sentence_embedding_for_sentence(text):\n",
    "    return np.vstack([last_layer[i, 1] for i,_ in enumerate(texts)])    "
   ]
  },
  {
   "cell_type": "code",
   "execution_count": null,
   "metadata": {},
   "outputs": [],
   "source": []
  },
  {
   "cell_type": "code",
   "execution_count": 27,
   "metadata": {},
   "outputs": [
    {
     "data": {
      "image/png": "[encoded data removed]",
      "text/plain": [
       "<Figure size 432x288 with 1 Axes>"
      ]
     },
     "metadata": {
      "needs_background": "light"
     },
     "output_type": "display_data"
    }
   ],
   "source": [
    "_ = plt.hist(token_embeddings_for_sequence(texts).flatten(), 30)"
   ]
  },
  {
   "cell_type": "code",
   "execution_count": 28,
   "metadata": {},
   "outputs": [],
   "source": [
    "from sklearn.metrics import pairwise"
   ]
  },
  {
   "cell_type": "code",
   "execution_count": 39,
   "metadata": {},
   "outputs": [],
   "source": [
    "sentence_embeddings = sentence_embedding_for_sentence(texts)"
   ]
  },
  {
   "cell_type": "code",
   "execution_count": 49,
   "metadata": {},
   "outputs": [],
   "source": [
    "def compute_distance_matrix(embeddings):\n",
    "    distances = np.empty((embeddings.shape[0], embeddings.shape[0]))\n",
    "    for i, x in enumerate(embeddings):\n",
    "        for j, y in enumerate(embeddings):\n",
    "            distances[i, j] = pairwise.cosine_similarity(np.atleast_2d(x), np.atleast_2d(y))\n",
    "            \n",
    "    return distances"
   ]
  },
  {
   "cell_type": "code",
   "execution_count": 60,
   "metadata": {},
   "outputs": [
    {
     "data": {
      "image/png": "[encoded data removed]",
      "text/plain": [
       "<Figure size 1440x864 with 2 Axes>"
      ]
     },
     "metadata": {
      "needs_background": "light"
     },
     "output_type": "display_data"
    }
   ],
   "source": [
    "fig, ax = plt.subplots(figsize=(20, 12))\n",
    "\n",
    "sns.heatmap(compute_distance_matrix(sentence_embeddings), cbar_kws={'label': 'cosine_similarity'})\n",
    "\n",
    "_= ax.set_title(\"Sentence embeddings similarity\")"
   ]
  },
  {
   "cell_type": "code",
   "execution_count": 42,
   "metadata": {},
   "outputs": [],
   "source": [
    "all_tokens = [token for text in texts for token in tokenizer.tokenize(text)]"
   ]
  },
  {
   "cell_type": "code",
   "execution_count": 43,
   "metadata": {},
   "outputs": [],
   "source": [
    "token_embeddings = token_embeddings_for_sequence(texts)"
   ]
  },
  {
   "cell_type": "code",
   "execution_count": 62,
   "metadata": {},
   "outputs": [
    {
     "data": {
      "image/png": "[encoded data removed]",
      "text/plain": [
       "<Figure size 1440x864 with 2 Axes>"
      ]
     },
     "metadata": {
      "needs_background": "light"
     },
     "output_type": "display_data"
    }
   ],
   "source": [
    "fig, ax = plt.subplots(figsize=(20, 12))\n",
    "sns.heatmap(compute_distance_matrix(token_embeddings), \n",
    "            xticklabels=all_tokens, \n",
    "            yticklabels=all_tokens, \n",
    "            cbar_kws={'label': 'cosine_similarity'})\n",
    "\n",
    "_= ax.set_title(\"Token embeddings similarity\")\n",
    "\n",
    "fig.savefig(\"token_embeddings_similarity.png\")"
   ]
  },
  {
   "cell_type": "code",
   "execution_count": 53,
   "metadata": {},
   "outputs": [],
   "source": [
    "keyword_embeddings = embeddings_for_keyword(texts, keyword)"
   ]
  },
  {
   "cell_type": "code",
   "execution_count": 55,
   "metadata": {},
   "outputs": [
    {
     "data": {
      "image/png": "[encoded data removed]",
      "text/plain": [
       "<Figure size 432x288 with 1 Axes>"
      ]
     },
     "metadata": {
      "needs_background": "light"
     },
     "output_type": "display_data"
    }
   ],
   "source": [
    "_ = plt.hist(compute_distance_matrix(token_embeddings).flatten(), 30)\n",
    "_ = plt.hist(compute_distance_matrix(keyword_embeddings).flatten(), 30)"
   ]
  },
  {
   "cell_type": "code",
   "execution_count": null,
   "metadata": {},
   "outputs": [],
   "source": []
  }
 ],
 "metadata": {
  "kernelspec": {
   "display_name": "Python 3",
   "language": "python",
   "name": "python3"
  },
  "language_info": {
   "codemirror_mode": {
    "name": "ipython",
    "version": 3
   },
   "file_extension": ".py",
   "mimetype": "text/x-python",
   "name": "python",
   "nbconvert_exporter": "python",
   "pygments_lexer": "ipython3",
   "version": "3.7.3"
  }
 },
 "nbformat": 4,
 "nbformat_minor": 4
}
